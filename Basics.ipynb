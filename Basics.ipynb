{
 "cells": [
  {
   "cell_type": "markdown",
   "metadata": {
    "collapsed": true
   },
   "source": [
    "# Exploring Hacker News Posts\n",
    "\n",
    "In this project, I will work with a dataset that contains submissions to the Hacker News website. This website is popular in technology and startup circles, and posts are voted and commented upon, similar to reddit. Specific posts whose titles begin with \"Ask HN\" is directed to ask the readers a question, whereas, titles beginning with \"Show HN\" posts show the community a product, project, or just something interesting. We will also conduct analysis on the types of the posts and conclude by finding the hours of the day o\n",
    "Here is the link to the dataset: https://www.kaggle.com/hacker-news/hacker-news-posts"
   ]
  },
  {
   "cell_type": "code",
   "execution_count": 1,
   "metadata": {
    "collapsed": false,
    "scrolled": false
   },
   "outputs": [
    {
     "name": "stdout",
     "output_type": "stream",
     "text": [
      "[['id', 'title', 'url', 'num_points', 'num_comments', 'author', 'created_at'], ['12224879', 'Interactive Dynamic Video', 'http://www.interactivedynamicvideo.com/', '386', '52', 'ne0phyte', '8/4/2016 11:52'], ['10975351', 'How to Use Open Source and Shut the Fuck Up at the Same Time', 'http://hueniverse.com/2016/01/26/how-to-use-open-source-and-shut-the-fuck-up-at-the-same-time/', '39', '10', 'josep2', '1/26/2016 19:30'], ['11964716', \"Florida DJs May Face Felony for April Fools' Water Joke\", 'http://www.thewire.com/entertainment/2013/04/florida-djs-april-fools-water-joke/63798/', '2', '1', 'vezycash', '6/23/2016 22:20'], ['11919867', 'Technology ventures: From Idea to Enterprise', 'https://www.amazon.com/Technology-Ventures-Enterprise-Thomas-Byers/dp/0073523429', '3', '1', 'hswarna', '6/17/2016 0:01']]\n"
     ]
    }
   ],
   "source": [
    "from csv import reader\n",
    "\n",
    "opened_file = open('hacker_news.csv')\n",
    "read_file = reader(opened_file)\n",
    "hn = list(read_file)\n",
    "\n",
    "print (hn[:5])"
   ]
  },
  {
   "cell_type": "markdown",
   "metadata": {},
   "source": [
    "### Extracting header row"
   ]
  },
  {
   "cell_type": "code",
   "execution_count": 2,
   "metadata": {
    "collapsed": false
   },
   "outputs": [
    {
     "name": "stdout",
     "output_type": "stream",
     "text": [
      "['id', 'title', 'url', 'num_points', 'num_comments', 'author', 'created_at']\n"
     ]
    }
   ],
   "source": [
    "hn_header = hn[0]\n",
    "print(hn_header)"
   ]
  },
  {
   "cell_type": "code",
   "execution_count": 3,
   "metadata": {
    "collapsed": false
   },
   "outputs": [
    {
     "name": "stdout",
     "output_type": "stream",
     "text": [
      "[['12224879', 'Interactive Dynamic Video', 'http://www.interactivedynamicvideo.com/', '386', '52', 'ne0phyte', '8/4/2016 11:52'], ['10975351', 'How to Use Open Source and Shut the Fuck Up at the Same Time', 'http://hueniverse.com/2016/01/26/how-to-use-open-source-and-shut-the-fuck-up-at-the-same-time/', '39', '10', 'josep2', '1/26/2016 19:30'], ['11964716', \"Florida DJs May Face Felony for April Fools' Water Joke\", 'http://www.thewire.com/entertainment/2013/04/florida-djs-april-fools-water-joke/63798/', '2', '1', 'vezycash', '6/23/2016 22:20'], ['11919867', 'Technology ventures: From Idea to Enterprise', 'https://www.amazon.com/Technology-Ventures-Enterprise-Thomas-Byers/dp/0073523429', '3', '1', 'hswarna', '6/17/2016 0:01'], ['10301696', 'Note by Note: The Making of Steinway L1037 (2007)', 'http://www.nytimes.com/2007/11/07/movies/07stein.html?_r=0', '8', '2', 'walterbell', '9/30/2015 4:12']]\n"
     ]
    }
   ],
   "source": [
    "hn = hn[1:]\n",
    "print (hn[:5])"
   ]
  },
  {
   "cell_type": "markdown",
   "metadata": {},
   "source": [
    "### Filtering out \"Ask HN\" and \"Show HN\" posts"
   ]
  },
  {
   "cell_type": "code",
   "execution_count": 4,
   "metadata": {
    "collapsed": false
   },
   "outputs": [],
   "source": [
    "ask_posts = []\n",
    "show_posts = []\n",
    "other_posts = []\n",
    "\n",
    "for row in hn:\n",
    "    title = row[1]\n",
    "    \n",
    "    if title.lower().startswith('ask hn'):\n",
    "        ask_posts.append(row)\n",
    "    elif title.lower().startswith('show hn'):\n",
    "        show_posts.append(row)\n",
    "    else:\n",
    "        other_posts.append(row)"
   ]
  },
  {
   "cell_type": "code",
   "execution_count": 5,
   "metadata": {
    "collapsed": false
   },
   "outputs": [
    {
     "name": "stdout",
     "output_type": "stream",
     "text": [
      "1744\n",
      "1162\n",
      "17194\n"
     ]
    }
   ],
   "source": [
    "print (len(ask_posts))\n",
    "print (len(show_posts))\n",
    "print (len(other_posts))"
   ]
  },
  {
   "cell_type": "code",
   "execution_count": 6,
   "metadata": {
    "collapsed": false
   },
   "outputs": [
    {
     "name": "stdout",
     "output_type": "stream",
     "text": [
      "14.038417431192661\n",
      "10.31669535283993\n"
     ]
    }
   ],
   "source": [
    "total_ask_comments = 0\n",
    "\n",
    "for row in ask_posts:\n",
    "    num_comments = row[4]\n",
    "    num_comments = int(num_comments)\n",
    "    total_ask_comments += num_comments\n",
    "\n",
    "avg_ask_comments = total_ask_comments / len(ask_posts)\n",
    "print(avg_ask_comments)\n",
    "\n",
    "total_show_comments = 0\n",
    "\n",
    "for row in show_posts:\n",
    "    num_comments = row[4]\n",
    "    num_comments = int(num_comments)\n",
    "    total_show_comments += num_comments\n",
    "\n",
    "avg_show_comments = total_show_comments / len(show_posts)\n",
    "print(avg_show_comments)"
   ]
  },
  {
   "cell_type": "markdown",
   "metadata": {},
   "source": [
    "From our anaysis above, we can see that the average number of comments in an \"Ask HM\" post is greater than the average number of comments for \"Show HM\" posts. From this, we can conclude that \"Ask HM\" posts on Hacker News website are the more popular and gain more interactions than \"Show HM\" posts since one is more likely to recieve comments than another."
   ]
  },
  {
   "cell_type": "markdown",
   "metadata": {},
   "source": [
    "### Number of Post Interactions based on the Time of Posting"
   ]
  },
  {
   "cell_type": "code",
   "execution_count": 7,
   "metadata": {
    "collapsed": false,
    "scrolled": false
   },
   "outputs": [
    {
     "name": "stdout",
     "output_type": "stream",
     "text": [
      "{'14': 107, '20': 80, '07': 34, '04': 47, '19': 110, '15': 116, '18': 109, '00': 55, '09': 45, '22': 71, '05': 46, '12': 73, '17': 100, '08': 48, '03': 54, '10': 59, '06': 44, '16': 108, '23': 68, '02': 58, '01': 60, '11': 58, '21': 109, '13': 85}\n",
      "{'14': 1416, '20': 1722, '07': 267, '04': 337, '19': 1188, '15': 4477, '18': 1439, '00': 447, '09': 251, '22': 479, '05': 464, '12': 687, '17': 1146, '08': 492, '03': 421, '10': 793, '06': 397, '16': 1814, '23': 543, '02': 1381, '01': 683, '11': 641, '21': 1745, '13': 1253}\n"
     ]
    }
   ],
   "source": [
    "import datetime as dt\n",
    "\n",
    "result_list = []\n",
    "\n",
    "for row in ask_posts:\n",
    "    ask_time = row[6]\n",
    "    num_comments = int(row[4])\n",
    "    result_list.append([ask_time, num_comments])\n",
    "\n",
    "counts_by_hour = {}\n",
    "comments_by_hour = {}\n",
    "\n",
    "for row in result_list:\n",
    "    time_of_post = row[0]\n",
    "    comment_count = row[1]\n",
    "    \n",
    "    #parsing time index from result_list as a dt object\n",
    "    time_of_post_dt = dt.datetime.strptime(time_of_post, \"%m/%d/%Y %H:%M\")\n",
    "\n",
    "    hour_of_post = dt.datetime.strftime(time_of_post_dt, \"%H\")\n",
    "    \n",
    "    \n",
    "    if hour_of_post in counts_by_hour:\n",
    "        counts_by_hour[hour_of_post] += 1\n",
    "        comments_by_hour[hour_of_post] += comment_count\n",
    "    else:\n",
    "        counts_by_hour[hour_of_post] = 1\n",
    "        comments_by_hour[hour_of_post] = comment_count\n",
    "    \n",
    "print(counts_by_hour)\n",
    "print(comments_by_hour)\n",
    "    \n"
   ]
  },
  {
   "cell_type": "markdown",
   "metadata": {},
   "source": [
    "Above, we created 2 dictionaries: counts_by_hour and comments_by_hour\n",
    "\n",
    "counts_by_hour : contains the number of ask posts created during each hour of the day.\n",
    "\n",
    "comments_by_hour: contains the corresponding number of comments ask posts created at each hour received."
   ]
  },
  {
   "cell_type": "code",
   "execution_count": 8,
   "metadata": {
    "collapsed": false
   },
   "outputs": [
    {
     "name": "stdout",
     "output_type": "stream",
     "text": [
      "[['14', 13.233644859813085], ['20', 21.525], ['07', 7.852941176470588], ['04', 7.170212765957447], ['19', 10.8], ['15', 38.5948275862069], ['18', 13.20183486238532], ['00', 8.127272727272727], ['09', 5.5777777777777775], ['22', 6.746478873239437], ['05', 10.08695652173913], ['12', 9.41095890410959], ['17', 11.46], ['08', 10.25], ['03', 7.796296296296297], ['10', 13.440677966101696], ['06', 9.022727272727273], ['16', 16.796296296296298], ['23', 7.985294117647059], ['02', 23.810344827586206], ['01', 11.383333333333333], ['11', 11.051724137931034], ['21', 16.009174311926607], ['13', 14.741176470588234]]\n"
     ]
    }
   ],
   "source": [
    "avg_comments_by_hr = []\n",
    "\n",
    "for hour in counts_by_hour:\n",
    "    avg_comments_by_hr.append([hour, comments_by_hour[hour]/counts_by_hour[hour]])\n",
    "print (avg_comments_by_hr)"
   ]
  },
  {
   "cell_type": "markdown",
   "metadata": {},
   "source": [
    "### Improving Readablity"
   ]
  },
  {
   "cell_type": "code",
   "execution_count": 27,
   "metadata": {
    "collapsed": false
   },
   "outputs": [
    {
     "name": "stdout",
     "output_type": "stream",
     "text": [
      "[[38.5948275862069, '15'], [23.810344827586206, '02'], [21.525, '20'], [16.796296296296298, '16'], [16.009174311926607, '21'], [14.741176470588234, '13'], [13.440677966101696, '10'], [13.233644859813085, '14'], [13.20183486238532, '18'], [11.46, '17'], [11.383333333333333, '01'], [11.051724137931034, '11'], [10.8, '19'], [10.25, '08'], [10.08695652173913, '05'], [9.41095890410959, '12'], [9.022727272727273, '06'], [8.127272727272727, '00'], [7.985294117647059, '23'], [7.852941176470588, '07'], [7.796296296296297, '03'], [7.170212765957447, '04'], [6.746478873239437, '22'], [5.5777777777777775, '09']]\n",
      "Top 5 Hours for Ask Posts Comments\n",
      "15:00 --- 38.59\n",
      "02:00 --- 23.81\n",
      "20:00 --- 21.52\n",
      "16:00 --- 16.80\n",
      "21:00 --- 16.01\n"
     ]
    }
   ],
   "source": [
    "swap_avg_by_hour = []\n",
    "\n",
    "for row in avg_comments_by_hr:\n",
    "    swap_avg_by_hour.append([row[1], row[0]]) #swap columns\n",
    "\n",
    "swap_avg_by_hour = sorted(swap_avg_by_hour, reverse = True) #descending sort\n",
    "\n",
    "print (\"Top 5 Hours for Ask Posts Comments\")\n",
    "\n",
    "for row in swap_avg_by_hour[:5]:\n",
    "    hour = row[1]\n",
    "    avg = row[0]\n",
    "    \n",
    "    hour = dt.datetime.strptime(hour, \"%H\") #parse hour string\n",
    "    hour = dt.datetime.strftime(hour, \"%H:00\") #format hour as hour:minute\n",
    "    \n",
    "    template = \"{hour} --- {avg:.2f}\" #floating decimal precision\n",
    "    output = template.format(hour = hour, avg = avg)\n",
    "    print(output)"
   ]
  },
  {
   "cell_type": "markdown",
   "metadata": {},
   "source": [
    "We can see from the output above, the top 5 hours that get the most comments. From this we can conclude that the most popular times that yield most interactions are: 3PM, 2AM, 8PM, 4PM and 9PM. "
   ]
  }
 ],
 "metadata": {
  "kernelspec": {
   "display_name": "Python 3",
   "language": "python",
   "name": "python3"
  },
  "language_info": {
   "codemirror_mode": {
    "name": "ipython",
    "version": 3
   },
   "file_extension": ".py",
   "mimetype": "text/x-python",
   "name": "python",
   "nbconvert_exporter": "python",
   "pygments_lexer": "ipython3",
   "version": "3.4.3"
  }
 },
 "nbformat": 4,
 "nbformat_minor": 2
}
